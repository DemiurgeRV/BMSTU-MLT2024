{
 "cells": [
  {
   "cell_type": "markdown",
   "metadata": {
    "id": "HA8iJ1t0d_nb"
   },
   "source": [
    "## Основные характеристики датасета"
   ]
  },
  {
   "cell_type": "markdown",
   "metadata": {
    "id": "ji3wsU5qeCQq"
   },
   "source": [
    "alcohol - алкоголь\n",
    "\n",
    "malic_acid - яблочная кислота\n",
    "\n",
    "ash - зола\n",
    "\n",
    "alcalinity_of_ash - щелочность золы\n",
    "\n",
    "magnesium - магний\n",
    "\n",
    "total_phenols - общее количество фенолов\n",
    "\n",
    "flavanoids - флавоноиды\n",
    "\n",
    "nonflavanoid_phenols - нефлавоноидные фенолы\n",
    "\n",
    "proanthocyanins- - проантоцианидины\n",
    "\n",
    "color_intensity - интенсивность цвета\n",
    "\n",
    "hue - оттенок\n",
    "\n",
    "od280/od315_of_diluted_wines - OD280/OD315 разбавленных вин\n",
    "\n",
    "proline - пролин\n",
    "\n",
    "target - сорт винограда"
   ]
  },
  {
   "cell_type": "markdown",
   "metadata": {
    "id": "ZdF6zu0oeGuz"
   },
   "source": [
    "# Подготовка"
   ]
  },
  {
   "cell_type": "code",
   "execution_count": 1,
   "metadata": {
    "id": "G_33_N2reIky"
   },
   "outputs": [],
   "source": [
    "import numpy as np\n",
    "import pandas as pd\n",
    "from sklearn.datasets import load_wine\n",
    "import seaborn as sns\n",
    "import matplotlib.pyplot as plt\n",
    "from sklearn.model_selection import train_test_split\n",
    "from sklearn.linear_model import LogisticRegression\n",
    "from sklearn.metrics import accuracy_score, f1_score, confusion_matrix\n",
    "from sklearn.svm import SVC\n",
    "from sklearn.tree import DecisionTreeClassifier\n",
    "from sklearn.model_selection import GridSearchCV\n",
    "from sklearn.preprocessing import StandardScaler\n",
    "from sklearn.pipeline import Pipeline\n",
    "\n",
    "\n",
    "RANDOM_STATE=123"
   ]
  },
  {
   "cell_type": "code",
   "execution_count": 2,
   "metadata": {
    "id": "EELMOPiYeKhy"
   },
   "outputs": [],
   "source": [
    "wine = load_wine()\n",
    "data = pd.DataFrame(data= np.c_[wine['data'], wine['target']],\n",
    "                     columns= wine['feature_names'] + ['target'])"
   ]
  },
  {
   "cell_type": "code",
   "execution_count": 3,
   "metadata": {
    "colab": {
     "base_uri": "https://localhost:8080/",
     "height": 226
    },
    "id": "E3iCb-bOeOIx",
    "outputId": "de574052-6e5d-442b-9aaa-bf4cf96adf07"
   },
   "outputs": [
    {
     "data": {
      "text/html": [
       "<div>\n",
       "<style scoped>\n",
       "    .dataframe tbody tr th:only-of-type {\n",
       "        vertical-align: middle;\n",
       "    }\n",
       "\n",
       "    .dataframe tbody tr th {\n",
       "        vertical-align: top;\n",
       "    }\n",
       "\n",
       "    .dataframe thead th {\n",
       "        text-align: right;\n",
       "    }\n",
       "</style>\n",
       "<table border=\"1\" class=\"dataframe\">\n",
       "  <thead>\n",
       "    <tr style=\"text-align: right;\">\n",
       "      <th></th>\n",
       "      <th>alcohol</th>\n",
       "      <th>malic_acid</th>\n",
       "      <th>ash</th>\n",
       "      <th>alcalinity_of_ash</th>\n",
       "      <th>magnesium</th>\n",
       "      <th>total_phenols</th>\n",
       "      <th>flavanoids</th>\n",
       "      <th>nonflavanoid_phenols</th>\n",
       "      <th>proanthocyanins</th>\n",
       "      <th>color_intensity</th>\n",
       "      <th>hue</th>\n",
       "      <th>od280/od315_of_diluted_wines</th>\n",
       "      <th>proline</th>\n",
       "      <th>target</th>\n",
       "    </tr>\n",
       "  </thead>\n",
       "  <tbody>\n",
       "    <tr>\n",
       "      <th>0</th>\n",
       "      <td>14.23</td>\n",
       "      <td>1.71</td>\n",
       "      <td>2.43</td>\n",
       "      <td>15.6</td>\n",
       "      <td>127.0</td>\n",
       "      <td>2.80</td>\n",
       "      <td>3.06</td>\n",
       "      <td>0.28</td>\n",
       "      <td>2.29</td>\n",
       "      <td>5.64</td>\n",
       "      <td>1.04</td>\n",
       "      <td>3.92</td>\n",
       "      <td>1065.0</td>\n",
       "      <td>0.0</td>\n",
       "    </tr>\n",
       "    <tr>\n",
       "      <th>1</th>\n",
       "      <td>13.20</td>\n",
       "      <td>1.78</td>\n",
       "      <td>2.14</td>\n",
       "      <td>11.2</td>\n",
       "      <td>100.0</td>\n",
       "      <td>2.65</td>\n",
       "      <td>2.76</td>\n",
       "      <td>0.26</td>\n",
       "      <td>1.28</td>\n",
       "      <td>4.38</td>\n",
       "      <td>1.05</td>\n",
       "      <td>3.40</td>\n",
       "      <td>1050.0</td>\n",
       "      <td>0.0</td>\n",
       "    </tr>\n",
       "    <tr>\n",
       "      <th>2</th>\n",
       "      <td>13.16</td>\n",
       "      <td>2.36</td>\n",
       "      <td>2.67</td>\n",
       "      <td>18.6</td>\n",
       "      <td>101.0</td>\n",
       "      <td>2.80</td>\n",
       "      <td>3.24</td>\n",
       "      <td>0.30</td>\n",
       "      <td>2.81</td>\n",
       "      <td>5.68</td>\n",
       "      <td>1.03</td>\n",
       "      <td>3.17</td>\n",
       "      <td>1185.0</td>\n",
       "      <td>0.0</td>\n",
       "    </tr>\n",
       "    <tr>\n",
       "      <th>3</th>\n",
       "      <td>14.37</td>\n",
       "      <td>1.95</td>\n",
       "      <td>2.50</td>\n",
       "      <td>16.8</td>\n",
       "      <td>113.0</td>\n",
       "      <td>3.85</td>\n",
       "      <td>3.49</td>\n",
       "      <td>0.24</td>\n",
       "      <td>2.18</td>\n",
       "      <td>7.80</td>\n",
       "      <td>0.86</td>\n",
       "      <td>3.45</td>\n",
       "      <td>1480.0</td>\n",
       "      <td>0.0</td>\n",
       "    </tr>\n",
       "    <tr>\n",
       "      <th>4</th>\n",
       "      <td>13.24</td>\n",
       "      <td>2.59</td>\n",
       "      <td>2.87</td>\n",
       "      <td>21.0</td>\n",
       "      <td>118.0</td>\n",
       "      <td>2.80</td>\n",
       "      <td>2.69</td>\n",
       "      <td>0.39</td>\n",
       "      <td>1.82</td>\n",
       "      <td>4.32</td>\n",
       "      <td>1.04</td>\n",
       "      <td>2.93</td>\n",
       "      <td>735.0</td>\n",
       "      <td>0.0</td>\n",
       "    </tr>\n",
       "  </tbody>\n",
       "</table>\n",
       "</div>"
      ],
      "text/plain": [
       "   alcohol  malic_acid   ash  alcalinity_of_ash  magnesium  total_phenols  \\\n",
       "0    14.23        1.71  2.43               15.6      127.0           2.80   \n",
       "1    13.20        1.78  2.14               11.2      100.0           2.65   \n",
       "2    13.16        2.36  2.67               18.6      101.0           2.80   \n",
       "3    14.37        1.95  2.50               16.8      113.0           3.85   \n",
       "4    13.24        2.59  2.87               21.0      118.0           2.80   \n",
       "\n",
       "   flavanoids  nonflavanoid_phenols  proanthocyanins  color_intensity   hue  \\\n",
       "0        3.06                  0.28             2.29             5.64  1.04   \n",
       "1        2.76                  0.26             1.28             4.38  1.05   \n",
       "2        3.24                  0.30             2.81             5.68  1.03   \n",
       "3        3.49                  0.24             2.18             7.80  0.86   \n",
       "4        2.69                  0.39             1.82             4.32  1.04   \n",
       "\n",
       "   od280/od315_of_diluted_wines  proline  target  \n",
       "0                          3.92   1065.0     0.0  \n",
       "1                          3.40   1050.0     0.0  \n",
       "2                          3.17   1185.0     0.0  \n",
       "3                          3.45   1480.0     0.0  \n",
       "4                          2.93    735.0     0.0  "
      ]
     },
     "execution_count": 3,
     "metadata": {},
     "output_type": "execute_result"
    }
   ],
   "source": [
    "data.head()"
   ]
  },
  {
   "cell_type": "code",
   "execution_count": 4,
   "metadata": {
    "colab": {
     "base_uri": "https://localhost:8080/"
    },
    "id": "VivXqDkReP84",
    "outputId": "8e9e33b3-92eb-4b55-941e-255f83811aad"
   },
   "outputs": [
    {
     "data": {
      "text/plain": [
       "alcohol                         0\n",
       "malic_acid                      0\n",
       "ash                             0\n",
       "alcalinity_of_ash               0\n",
       "magnesium                       0\n",
       "total_phenols                   0\n",
       "flavanoids                      0\n",
       "nonflavanoid_phenols            0\n",
       "proanthocyanins                 0\n",
       "color_intensity                 0\n",
       "hue                             0\n",
       "od280/od315_of_diluted_wines    0\n",
       "proline                         0\n",
       "target                          0\n",
       "dtype: int64"
      ]
     },
     "execution_count": 4,
     "metadata": {},
     "output_type": "execute_result"
    }
   ],
   "source": [
    "data.isnull().sum()"
   ]
  },
  {
   "cell_type": "markdown",
   "metadata": {
    "id": "Rr5vuU_FeR29"
   },
   "source": [
    "Пропусков в датасете нет."
   ]
  },
  {
   "cell_type": "markdown",
   "metadata": {
    "id": "QP7X66pueZzn"
   },
   "source": [
    "# Разделение на выборки"
   ]
  },
  {
   "cell_type": "code",
   "execution_count": 5,
   "metadata": {
    "id": "NLqfwIjQeXth"
   },
   "outputs": [],
   "source": [
    "X = data.iloc[:, :-1]\n",
    "y = data.target"
   ]
  },
  {
   "cell_type": "code",
   "execution_count": 6,
   "metadata": {
    "colab": {
     "base_uri": "https://localhost:8080/"
    },
    "id": "7SFLFk43pRdF",
    "outputId": "95a8c5a4-ccce-4bd4-a30a-1f327efb0efd"
   },
   "outputs": [
    {
     "data": {
      "text/plain": [
       "target\n",
       "1.0    71\n",
       "0.0    59\n",
       "2.0    48\n",
       "Name: count, dtype: int64"
      ]
     },
     "execution_count": 6,
     "metadata": {},
     "output_type": "execute_result"
    }
   ],
   "source": [
    "y.value_counts()"
   ]
  },
  {
   "cell_type": "code",
   "execution_count": 7,
   "metadata": {
    "id": "PeH99Z6Neb6d"
   },
   "outputs": [],
   "source": [
    "X_train, X_test, y_train, y_test = train_test_split(X, y, test_size=0.3, random_state=RANDOM_STATE, stratify=y)"
   ]
  },
  {
   "cell_type": "code",
   "execution_count": 8,
   "metadata": {
    "colab": {
     "base_uri": "https://localhost:8080/"
    },
    "id": "E5WfUAGho5kk",
    "outputId": "8614ccca-481f-4ab0-df43-befe940990e7"
   },
   "outputs": [
    {
     "data": {
      "text/plain": [
       "target\n",
       "1.0    50\n",
       "0.0    41\n",
       "2.0    33\n",
       "Name: count, dtype: int64"
      ]
     },
     "execution_count": 8,
     "metadata": {},
     "output_type": "execute_result"
    }
   ],
   "source": [
    "y_train.value_counts()"
   ]
  },
  {
   "cell_type": "markdown",
   "metadata": {
    "id": "4AnlT9pGekTD"
   },
   "source": [
    "# Обучение моделей"
   ]
  },
  {
   "cell_type": "markdown",
   "metadata": {
    "id": "Z94_6Zu6tHNk"
   },
   "source": [
    "## Простое обучение"
   ]
  },
  {
   "cell_type": "code",
   "execution_count": 9,
   "metadata": {
    "colab": {
     "base_uri": "https://localhost:8080/"
    },
    "id": "J9C2C09EemQr",
    "outputId": "cf51241e-2343-4c01-f3d2-794cd06f0cc7"
   },
   "outputs": [
    {
     "data": {
      "text/plain": [
       "0.9629629629629629"
      ]
     },
     "execution_count": 9,
     "metadata": {},
     "output_type": "execute_result"
    }
   ],
   "source": [
    "basic_lg = LogisticRegression(max_iter=10000, random_state=RANDOM_STATE)\n",
    "basic_lg.fit(X_train, y_train)\n",
    "y_pred_basic_lg = basic_lg.predict(X_test)\n",
    "\n",
    "accuracy_score(y_test, y_pred_basic_lg)"
   ]
  },
  {
   "cell_type": "code",
   "execution_count": 10,
   "metadata": {
    "colab": {
     "base_uri": "https://localhost:8080/"
    },
    "id": "GxdabKSTtQ3b",
    "outputId": "a2738ed0-c6f9-4504-a2dc-9319e49f5c68"
   },
   "outputs": [
    {
     "data": {
      "text/plain": [
       "0.7037037037037037"
      ]
     },
     "execution_count": 10,
     "metadata": {},
     "output_type": "execute_result"
    }
   ],
   "source": [
    "basic_svc = SVC(random_state=RANDOM_STATE)\n",
    "basic_svc.fit(X_train, y_train)\n",
    "y_pred_basic_svc = basic_svc.predict(X_test)\n",
    "\n",
    "accuracy_score(y_test, y_pred_basic_svc)"
   ]
  },
  {
   "cell_type": "code",
   "execution_count": 11,
   "metadata": {
    "colab": {
     "base_uri": "https://localhost:8080/"
    },
    "id": "u2e1p6oNtY0G",
    "outputId": "f85dec19-4156-41fa-9bc7-5c0d2aeeb778"
   },
   "outputs": [
    {
     "data": {
      "text/plain": [
       "0.8888888888888888"
      ]
     },
     "execution_count": 11,
     "metadata": {},
     "output_type": "execute_result"
    }
   ],
   "source": [
    "basic_dtc = DecisionTreeClassifier(random_state=RANDOM_STATE)\n",
    "basic_dtc.fit(X_train, y_train)\n",
    "y_pred_basic_dtc = basic_dtc.predict(X_test)\n",
    "\n",
    "accuracy_score(y_test, y_pred_basic_dtc)"
   ]
  },
  {
   "cell_type": "markdown",
   "metadata": {
    "id": "RWH9ZXxWtKP0"
   },
   "source": [
    "## С подбором параметров"
   ]
  },
  {
   "cell_type": "code",
   "execution_count": 12,
   "metadata": {
    "colab": {
     "base_uri": "https://localhost:8080/"
    },
    "id": "MPb_tvWDqX7d",
    "outputId": "f086f2a3-dbaa-44bf-e306-f229f7194673"
   },
   "outputs": [
    {
     "name": "stdout",
     "output_type": "stream",
     "text": [
      "Параметры: {'lg__C': 0.1, 'lg__max_iter': 10000, 'lg__random_state': 123}\n",
      "Точность: 0.9814814814814815\n"
     ]
    }
   ],
   "source": [
    "pipe = Pipeline([\n",
    "    ('scaler', StandardScaler()),\n",
    "    ('lg', LogisticRegression())\n",
    "])\n",
    "\n",
    "param_grid = {\n",
    "    'lg__C': [0.01, 0.1, 1, 10, 100],\n",
    "    'lg__max_iter': [10000],\n",
    "    'lg__random_state': [RANDOM_STATE]\n",
    "}\n",
    "lg = GridSearchCV(pipe, param_grid, cv=5)\n",
    "lg.fit(X_train, y_train)\n",
    "\n",
    "print(\"Параметры:\", lg.best_params_)\n",
    "print(\"Точность:\", lg.score(X_test, y_test))"
   ]
  },
  {
   "cell_type": "code",
   "execution_count": 13,
   "metadata": {
    "colab": {
     "base_uri": "https://localhost:8080/"
    },
    "id": "uunucaXTmfpF",
    "outputId": "617a41e1-5e98-45b9-be34-c40e55290520"
   },
   "outputs": [
    {
     "name": "stdout",
     "output_type": "stream",
     "text": [
      "Параметры: {'svc__C': 0.1, 'svc__kernel': 'linear', 'svc__random_state': 123}\n",
      "Точность: 0.9814814814814815\n"
     ]
    }
   ],
   "source": [
    "pipe = Pipeline([\n",
    "    ('scaler', StandardScaler()),\n",
    "    ('svc', SVC())\n",
    "])\n",
    "\n",
    "param_grid = {\n",
    "    'svc__C': [0.001, 0.1, 1, 10, 100],\n",
    "    'svc__kernel': ['linear', 'rbf', 'sigmoid', 'poly'],\n",
    "    'svc__random_state': [RANDOM_STATE]\n",
    "}\n",
    "svc = GridSearchCV(pipe, param_grid, cv=5)\n",
    "svc.fit(X_train, y_train)\n",
    "\n",
    "print(\"Параметры:\", svc.best_params_)\n",
    "print(\"Точность:\", svc.score(X_test, y_test))"
   ]
  },
  {
   "cell_type": "code",
   "execution_count": 14,
   "metadata": {
    "colab": {
     "base_uri": "https://localhost:8080/"
    },
    "id": "Jihk8J55qvmW",
    "outputId": "a54473bf-edb9-491b-8925-cdd779272044"
   },
   "outputs": [
    {
     "name": "stdout",
     "output_type": "stream",
     "text": [
      "Параметры: {'dtc__criterion': 'entropy', 'dtc__min_samples_leaf': 4, 'dtc__min_samples_split': 2, 'dtc__random_state': 123}\n",
      "Точность: 0.9444444444444444\n"
     ]
    }
   ],
   "source": [
    "pipe = Pipeline([\n",
    "    ('scaler', StandardScaler()),\n",
    "    ('dtc', DecisionTreeClassifier())\n",
    "])\n",
    "\n",
    "param_grid = {\n",
    "    'dtc__min_samples_split': [2, 4, 8],\n",
    "    'dtc__min_samples_leaf': [1, 2, 4],\n",
    "    'dtc__criterion': ['gini', 'entropy', 'log_loss'],\n",
    "    'dtc__random_state': [RANDOM_STATE]\n",
    "}\n",
    "dtc = GridSearchCV(pipe, param_grid, cv=5)\n",
    "dtc.fit(X_train, y_train)\n",
    "\n",
    "print(\"Параметры:\", dtc.best_params_)\n",
    "print(\"Точность:\", dtc.score(X_test, y_test))"
   ]
  },
  {
   "cell_type": "markdown",
   "metadata": {
    "id": "dyvwvIawwVZ4"
   },
   "source": [
    "# Оценка моделей"
   ]
  },
  {
   "cell_type": "markdown",
   "metadata": {
    "id": "iYmChfia4e2P"
   },
   "source": [
    "## Без подбора параметров"
   ]
  },
  {
   "cell_type": "markdown",
   "metadata": {
    "id": "UjwXqs7D4t97"
   },
   "source": [
    "Accuracy"
   ]
  },
  {
   "cell_type": "code",
   "execution_count": 15,
   "metadata": {
    "colab": {
     "base_uri": "https://localhost:8080/"
    },
    "id": "aGcbFem24kUJ",
    "outputId": "1f1e643c-6edf-4d2e-ae15-1a2c2deca3a9"
   },
   "outputs": [
    {
     "name": "stdout",
     "output_type": "stream",
     "text": [
      "0.9629629629629629\n",
      "0.7037037037037037\n",
      "0.8888888888888888\n"
     ]
    }
   ],
   "source": [
    "print(accuracy_score(y_test, y_pred_basic_lg))\n",
    "print(accuracy_score(y_test, y_pred_basic_svc))\n",
    "print(accuracy_score(y_test, y_pred_basic_dtc))"
   ]
  },
  {
   "cell_type": "markdown",
   "metadata": {
    "id": "uN5s7HNE4xtb"
   },
   "source": [
    "F-1 мера"
   ]
  },
  {
   "cell_type": "code",
   "execution_count": 16,
   "metadata": {
    "colab": {
     "base_uri": "https://localhost:8080/"
    },
    "id": "sDajv0Bs3ZNZ",
    "outputId": "fbf42e2f-1093-46d7-b652-50c4bef77fa0"
   },
   "outputs": [
    {
     "name": "stdout",
     "output_type": "stream",
     "text": [
      "0.9656084656084656\n",
      "0.6218509236053096\n",
      "0.8934965290464012\n"
     ]
    }
   ],
   "source": [
    "print(f1_score(y_test, y_pred_basic_lg, average='macro'))\n",
    "print(f1_score(y_test, y_pred_basic_svc, average='macro'))\n",
    "print(f1_score(y_test, y_pred_basic_dtc, average='macro'))"
   ]
  },
  {
   "cell_type": "markdown",
   "metadata": {
    "id": "uOFJC21e65Pt"
   },
   "source": [
    "Без подбора параметров лучший результат показала модель логистической регрессии и намного хуже других себя показал себя метод опорных векторов. SVC модель часто путает 3 класс со 2."
   ]
  },
  {
   "cell_type": "markdown",
   "metadata": {
    "id": "BopOvLZ653XH"
   },
   "source": [
    "## С подбором параметров"
   ]
  },
  {
   "cell_type": "code",
   "execution_count": 17,
   "metadata": {
    "id": "LgEQ_C5H6JKk"
   },
   "outputs": [],
   "source": [
    "y_pred_lg = lg.predict(X_test)\n",
    "y_pred_svc = svc.predict(X_test)\n",
    "y_pred_dtc = dtc.predict(X_test)"
   ]
  },
  {
   "cell_type": "markdown",
   "metadata": {
    "id": "57qugHJc55nQ"
   },
   "source": [
    "Accuracy"
   ]
  },
  {
   "cell_type": "code",
   "execution_count": 18,
   "metadata": {
    "colab": {
     "base_uri": "https://localhost:8080/"
    },
    "id": "DRe0cMQc6GZe",
    "outputId": "05be363f-884e-4bd6-d566-d7ecd586219d"
   },
   "outputs": [
    {
     "name": "stdout",
     "output_type": "stream",
     "text": [
      "0.9814814814814815\n",
      "0.9814814814814815\n",
      "0.9444444444444444\n"
     ]
    }
   ],
   "source": [
    "print(accuracy_score(y_test, y_pred_lg))\n",
    "print(accuracy_score(y_test, y_pred_svc))\n",
    "print(accuracy_score(y_test, y_pred_dtc))"
   ]
  },
  {
   "cell_type": "markdown",
   "metadata": {
    "id": "5G_55akX57Pr"
   },
   "source": [
    "F-1 мера"
   ]
  },
  {
   "cell_type": "code",
   "execution_count": 19,
   "metadata": {
    "colab": {
     "base_uri": "https://localhost:8080/"
    },
    "id": "aDNm3-ho6r8W",
    "outputId": "560f956f-cb82-4577-ba78-d2da16c69a9c"
   },
   "outputs": [
    {
     "name": "stdout",
     "output_type": "stream",
     "text": [
      "0.9828609096901779\n",
      "0.981117230527144\n",
      "0.9466756817669597\n"
     ]
    }
   ],
   "source": [
    "print(f1_score(y_test, y_pred_lg, average='macro'))\n",
    "print(f1_score(y_test, y_pred_svc, average='macro'))\n",
    "print(f1_score(y_test, y_pred_dtc, average='macro'))"
   ]
  },
  {
   "cell_type": "markdown",
   "metadata": {
    "id": "8EvG8R_O8ZCl"
   },
   "source": [
    "Благодаря подбору параметров результаты всех моделей улучшились.\n",
    "\n",
    "Для логистической регрессии изменение небольшое, но SVC модель смогла догнать её по качеству."
   ]
  },
  {
   "cell_type": "markdown",
   "metadata": {
    "id": "v-X-CN959fGq"
   },
   "source": [
    "# Важность признаков в дереве решений"
   ]
  },
  {
   "cell_type": "code",
   "execution_count": 20,
   "metadata": {
    "colab": {
     "base_uri": "https://localhost:8080/",
     "height": 653
    },
    "id": "q_aZiginM2Ts",
    "outputId": "cdde301b-6e71-4522-832a-3bd0f8d561d0"
   },
   "outputs": [
    {
     "data": {
      "image/png": "[encoded data removed]",
      "text/plain": [
       "<Figure size 640x480 with 1 Axes>"
      ]
     },
     "metadata": {},
     "output_type": "display_data"
    }
   ],
   "source": [
    "feature_importances = dtc.best_estimator_.named_steps['dtc'].feature_importances_\n",
    "\n",
    "feature_names = data.columns[:-1]\n",
    "\n",
    "fig, ax = plt.subplots()\n",
    "indices = np.argsort(feature_importances)[::-1]\n",
    "ax.bar(range(X_train.shape[1]), feature_importances[indices])\n",
    "ax.set_xticks(range(X_train.shape[1]))\n",
    "ax.set_xticklabels(feature_names[indices], rotation=90)\n",
    "ax.set_title(\"Важность признаков в дереве решений\")\n",
    "ax.set_ylabel(\"Важность\")\n",
    "\n",
    "plt.show()"
   ]
  }
 ],
 "metadata": {
  "colab": {
   "provenance": []
  },
  "kernelspec": {
   "display_name": "Python 3 (ipykernel)",
   "language": "python",
   "name": "python3"
  },
  "language_info": {
   "codemirror_mode": {
    "name": "ipython",
    "version": 3
   },
   "file_extension": ".py",
   "mimetype": "text/x-python",
   "name": "python",
   "nbconvert_exporter": "python",
   "pygments_lexer": "ipython3",
   "version": "3.11.7"
  }
 },
 "nbformat": 4,
 "nbformat_minor": 4
}
