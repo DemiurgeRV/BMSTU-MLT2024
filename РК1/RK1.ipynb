{
 "cells": [
  {
   "cell_type": "markdown",
   "id": "abda46e3-1799-4af3-a10c-c63976c04548",
   "metadata": {},
   "source": [
    "## Рыбин ИУ5-63Б РК1\n",
    "## Вариант 17\n",
    "### Задача 3 - Набор данных 1\n",
    "Для заданного набора данных произведите масштабирование данных (для одного признака) и преобразование категориальных признаков в количественные двумя способами (label encoding, one hot encoding) для одного признака. Какие методы Вы использовали для решения задачи и почему? </br>\n",
    "Доп требование: для произвольной колонки данных построить график \"Ящик с усами (boxplot)\""
   ]
  },
  {
   "cell_type": "code",
   "execution_count": 46,
   "id": "25b7ffba-0747-4bed-8487-6ca04cc8c4ca",
   "metadata": {},
   "outputs": [],
   "source": [
    "import pandas as pd\n",
    "import numpy as np\n",
    "from sklearn.datasets import load_iris\n",
    "from sklearn.preprocessing import MinMaxScaler, LabelEncoder, OneHotEncoder\n",
    "import matplotlib.pyplot as plt"
   ]
  },
  {
   "cell_type": "markdown",
   "id": "5ccaf1ad-8bed-45c2-8189-60a0e4dd514d",
   "metadata": {},
   "source": [
    "### Загрузка и анализ датасета"
   ]
  },
  {
   "cell_type": "code",
   "execution_count": 33,
   "id": "d79d9578-980e-4b9a-812f-ca45fb297373",
   "metadata": {},
   "outputs": [
    {
     "name": "stdout",
     "output_type": "stream",
     "text": [
      ".. _iris_dataset:\n",
      "\n",
      "Iris plants dataset\n",
      "--------------------\n",
      "\n",
      "**Data Set Characteristics:**\n",
      "\n",
      "    :Number of Instances: 150 (50 in each of three classes)\n",
      "    :Number of Attributes: 4 numeric, predictive attributes and the class\n",
      "    :Attribute Information:\n",
      "        - sepal length in cm\n",
      "        - sepal width in cm\n",
      "        - petal length in cm\n",
      "        - petal width in cm\n",
      "        - class:\n",
      "                - Iris-Setosa\n",
      "                - Iris-Versicolour\n",
      "                - Iris-Virginica\n",
      "                \n",
      "    :Summary Statistics:\n",
      "\n",
      "    ============== ==== ==== ======= ===== ====================\n",
      "                    Min  Max   Mean    SD   Class Correlation\n",
      "    ============== ==== ==== ======= ===== ====================\n",
      "    sepal length:   4.3  7.9   5.84   0.83    0.7826\n",
      "    sepal width:    2.0  4.4   3.05   0.43   -0.4194\n",
      "    petal length:   1.0  6.9   3.76   1.76    0.9490  (high!)\n",
      "    petal width:    0.1  2.5   1.20   0.76    0.9565  (high!)\n",
      "    ============== ==== ==== ======= ===== ====================\n",
      "\n",
      "    :Missing Attribute Values: None\n",
      "    :Class Distribution: 33.3% for each of 3 classes.\n",
      "    :Creator: R.A. Fisher\n",
      "    :Donor: Michael Marshall (MARSHALL%PLU@io.arc.nasa.gov)\n",
      "    :Date: July, 1988\n",
      "\n",
      "The famous Iris database, first used by Sir R.A. Fisher. The dataset is taken\n",
      "from Fisher's paper. Note that it's the same as in R, but not as in the UCI\n",
      "Machine Learning Repository, which has two wrong data points.\n",
      "\n",
      "This is perhaps the best known database to be found in the\n",
      "pattern recognition literature.  Fisher's paper is a classic in the field and\n",
      "is referenced frequently to this day.  (See Duda & Hart, for example.)  The\n",
      "data set contains 3 classes of 50 instances each, where each class refers to a\n",
      "type of iris plant.  One class is linearly separable from the other 2; the\n",
      "latter are NOT linearly separable from each other.\n",
      "\n",
      ".. topic:: References\n",
      "\n",
      "   - Fisher, R.A. \"The use of multiple measurements in taxonomic problems\"\n",
      "     Annual Eugenics, 7, Part II, 179-188 (1936); also in \"Contributions to\n",
      "     Mathematical Statistics\" (John Wiley, NY, 1950).\n",
      "   - Duda, R.O., & Hart, P.E. (1973) Pattern Classification and Scene Analysis.\n",
      "     (Q327.D83) John Wiley & Sons.  ISBN 0-471-22361-1.  See page 218.\n",
      "   - Dasarathy, B.V. (1980) \"Nosing Around the Neighborhood: A New System\n",
      "     Structure and Classification Rule for Recognition in Partially Exposed\n",
      "     Environments\".  IEEE Transactions on Pattern Analysis and Machine\n",
      "     Intelligence, Vol. PAMI-2, No. 1, 67-71.\n",
      "   - Gates, G.W. (1972) \"The Reduced Nearest Neighbor Rule\".  IEEE Transactions\n",
      "     on Information Theory, May 1972, 431-433.\n",
      "   - See also: 1988 MLC Proceedings, 54-64.  Cheeseman et al\"s AUTOCLASS II\n",
      "     conceptual clustering system finds 3 classes in the data.\n",
      "   - Many, many more ...\n"
     ]
    }
   ],
   "source": [
    "iris = load_iris()\n",
    "print(dataset.DESCR)"
   ]
  },
  {
   "cell_type": "code",
   "execution_count": 14,
   "id": "9bd71018-f337-4192-a592-a608d1b9534f",
   "metadata": {},
   "outputs": [
    {
     "data": {
      "text/plain": [
       "array([0, 0, 0, 0, 0, 0, 0, 0, 0, 0, 0, 0, 0, 0, 0, 0, 0, 0, 0, 0, 0, 0,\n",
       "       0, 0, 0, 0, 0, 0, 0, 0, 0, 0, 0, 0, 0, 0, 0, 0, 0, 0, 0, 0, 0, 0,\n",
       "       0, 0, 0, 0, 0, 0, 1, 1, 1, 1, 1, 1, 1, 1, 1, 1, 1, 1, 1, 1, 1, 1,\n",
       "       1, 1, 1, 1, 1, 1, 1, 1, 1, 1, 1, 1, 1, 1, 1, 1, 1, 1, 1, 1, 1, 1,\n",
       "       1, 1, 1, 1, 1, 1, 1, 1, 1, 1, 1, 1, 2, 2, 2, 2, 2, 2, 2, 2, 2, 2,\n",
       "       2, 2, 2, 2, 2, 2, 2, 2, 2, 2, 2, 2, 2, 2, 2, 2, 2, 2, 2, 2, 2, 2,\n",
       "       2, 2, 2, 2, 2, 2, 2, 2, 2, 2, 2, 2, 2, 2, 2, 2, 2, 2])"
      ]
     },
     "execution_count": 14,
     "metadata": {},
     "output_type": "execute_result"
    }
   ],
   "source": [
    "# значения целевого признака\n",
    "iris.target"
   ]
  },
  {
   "cell_type": "code",
   "execution_count": 22,
   "id": "00184948-520c-441e-ac0b-f104783769f8",
   "metadata": {},
   "outputs": [
    {
     "data": {
      "text/plain": [
       "array(['setosa', 'versicolor', 'virginica'], dtype='<U10')"
      ]
     },
     "execution_count": 22,
     "metadata": {},
     "output_type": "execute_result"
    }
   ],
   "source": [
    "iris.target_names"
   ]
  },
  {
   "cell_type": "markdown",
   "id": "98bf7caf-8540-4eaf-8f1b-bf9b8e4c0270",
   "metadata": {},
   "source": [
    "### Масштабирование данных\n",
    "Для этого задания выбрал признак sepal lenght. Для того, чтобы признак принадлежал отрезку [0; 1] воспользовался методом MinMaxScaler, чтобы не получить отрицательные значения длины листка."
   ]
  },
  {
   "cell_type": "code",
   "execution_count": 34,
   "id": "0021549c-02e0-4a5b-bcc6-af4a70e0f17f",
   "metadata": {},
   "outputs": [
    {
     "name": "stdout",
     "output_type": "stream",
     "text": [
      "[[0.22222222]\n",
      " [0.16666667]\n",
      " [0.11111111]\n",
      " [0.08333333]\n",
      " [0.19444444]\n",
      " [0.30555556]\n",
      " [0.08333333]\n",
      " [0.19444444]\n",
      " [0.02777778]\n",
      " [0.16666667]\n",
      " [0.30555556]\n",
      " [0.13888889]\n",
      " [0.13888889]\n",
      " [0.        ]\n",
      " [0.41666667]\n",
      " [0.38888889]\n",
      " [0.30555556]\n",
      " [0.22222222]\n",
      " [0.38888889]\n",
      " [0.22222222]\n",
      " [0.30555556]\n",
      " [0.22222222]\n",
      " [0.08333333]\n",
      " [0.22222222]\n",
      " [0.13888889]\n",
      " [0.19444444]\n",
      " [0.19444444]\n",
      " [0.25      ]\n",
      " [0.25      ]\n",
      " [0.11111111]\n",
      " [0.13888889]\n",
      " [0.30555556]\n",
      " [0.25      ]\n",
      " [0.33333333]\n",
      " [0.16666667]\n",
      " [0.19444444]\n",
      " [0.33333333]\n",
      " [0.16666667]\n",
      " [0.02777778]\n",
      " [0.22222222]\n",
      " [0.19444444]\n",
      " [0.05555556]\n",
      " [0.02777778]\n",
      " [0.19444444]\n",
      " [0.22222222]\n",
      " [0.13888889]\n",
      " [0.22222222]\n",
      " [0.08333333]\n",
      " [0.27777778]\n",
      " [0.19444444]\n",
      " [0.75      ]\n",
      " [0.58333333]\n",
      " [0.72222222]\n",
      " [0.33333333]\n",
      " [0.61111111]\n",
      " [0.38888889]\n",
      " [0.55555556]\n",
      " [0.16666667]\n",
      " [0.63888889]\n",
      " [0.25      ]\n",
      " [0.19444444]\n",
      " [0.44444444]\n",
      " [0.47222222]\n",
      " [0.5       ]\n",
      " [0.36111111]\n",
      " [0.66666667]\n",
      " [0.36111111]\n",
      " [0.41666667]\n",
      " [0.52777778]\n",
      " [0.36111111]\n",
      " [0.44444444]\n",
      " [0.5       ]\n",
      " [0.55555556]\n",
      " [0.5       ]\n",
      " [0.58333333]\n",
      " [0.63888889]\n",
      " [0.69444444]\n",
      " [0.66666667]\n",
      " [0.47222222]\n",
      " [0.38888889]\n",
      " [0.33333333]\n",
      " [0.33333333]\n",
      " [0.41666667]\n",
      " [0.47222222]\n",
      " [0.30555556]\n",
      " [0.47222222]\n",
      " [0.66666667]\n",
      " [0.55555556]\n",
      " [0.36111111]\n",
      " [0.33333333]\n",
      " [0.33333333]\n",
      " [0.5       ]\n",
      " [0.41666667]\n",
      " [0.19444444]\n",
      " [0.36111111]\n",
      " [0.38888889]\n",
      " [0.38888889]\n",
      " [0.52777778]\n",
      " [0.22222222]\n",
      " [0.38888889]\n",
      " [0.55555556]\n",
      " [0.41666667]\n",
      " [0.77777778]\n",
      " [0.55555556]\n",
      " [0.61111111]\n",
      " [0.91666667]\n",
      " [0.16666667]\n",
      " [0.83333333]\n",
      " [0.66666667]\n",
      " [0.80555556]\n",
      " [0.61111111]\n",
      " [0.58333333]\n",
      " [0.69444444]\n",
      " [0.38888889]\n",
      " [0.41666667]\n",
      " [0.58333333]\n",
      " [0.61111111]\n",
      " [0.94444444]\n",
      " [0.94444444]\n",
      " [0.47222222]\n",
      " [0.72222222]\n",
      " [0.36111111]\n",
      " [0.94444444]\n",
      " [0.55555556]\n",
      " [0.66666667]\n",
      " [0.80555556]\n",
      " [0.52777778]\n",
      " [0.5       ]\n",
      " [0.58333333]\n",
      " [0.80555556]\n",
      " [0.86111111]\n",
      " [1.        ]\n",
      " [0.58333333]\n",
      " [0.55555556]\n",
      " [0.5       ]\n",
      " [0.94444444]\n",
      " [0.55555556]\n",
      " [0.58333333]\n",
      " [0.47222222]\n",
      " [0.72222222]\n",
      " [0.66666667]\n",
      " [0.72222222]\n",
      " [0.41666667]\n",
      " [0.69444444]\n",
      " [0.66666667]\n",
      " [0.66666667]\n",
      " [0.55555556]\n",
      " [0.61111111]\n",
      " [0.52777778]\n",
      " [0.44444444]]\n"
     ]
    }
   ],
   "source": [
    "scaler = MinMaxScaler()\n",
    "\n",
    "sepal_length = dataset.data[:, 0].reshape(-1, 1)\n",
    "sepal_length_scaled = scaler.fit_transform(sepal_length)\n",
    "\n",
    "print(sepal_length_scaled)"
   ]
  },
  {
   "cell_type": "markdown",
   "id": "96153cdd-d94e-4adc-80b7-5b8082055ba0",
   "metadata": {},
   "source": [
    "### Преобразование категориальных признаков в количественные\n",
    "В моем датасете нет категориальных признаков, поэтому я их создам при преоброзовании в dataframe на основе значений целевого признака."
   ]
  },
  {
   "cell_type": "code",
   "execution_count": 35,
   "id": "fd1da668-f1d4-4309-a2a7-357874b37e97",
   "metadata": {},
   "outputs": [
    {
     "name": "stdout",
     "output_type": "stream",
     "text": [
      "{0: 'setosa', 1: 'versicolor', 2: 'virginica'}\n"
     ]
    }
   ],
   "source": [
    "target_dict = dict(zip(np.unique(iris.target), iris.target_names))\n",
    "print(target_dict)"
   ]
  },
  {
   "cell_type": "code",
   "execution_count": 36,
   "id": "c082eb82-9f71-4fd6-aa64-d159b3448ac0",
   "metadata": {},
   "outputs": [
    {
     "name": "stdout",
     "output_type": "stream",
     "text": [
      "     sepal length (cm)  sepal width (cm)  petal length (cm)  petal width (cm)  \\\n",
      "0                  5.1               3.5                1.4               0.2   \n",
      "1                  4.9               3.0                1.4               0.2   \n",
      "2                  4.7               3.2                1.3               0.2   \n",
      "3                  4.6               3.1                1.5               0.2   \n",
      "4                  5.0               3.6                1.4               0.2   \n",
      "..                 ...               ...                ...               ...   \n",
      "145                6.7               3.0                5.2               2.3   \n",
      "146                6.3               2.5                5.0               1.9   \n",
      "147                6.5               3.0                5.2               2.0   \n",
      "148                6.2               3.4                5.4               2.3   \n",
      "149                5.9               3.0                5.1               1.8   \n",
      "\n",
      "     target target_name  \n",
      "0         0      setosa  \n",
      "1         0      setosa  \n",
      "2         0      setosa  \n",
      "3         0      setosa  \n",
      "4         0      setosa  \n",
      "..      ...         ...  \n",
      "145       2   virginica  \n",
      "146       2   virginica  \n",
      "147       2   virginica  \n",
      "148       2   virginica  \n",
      "149       2   virginica  \n",
      "\n",
      "[150 rows x 6 columns]\n"
     ]
    }
   ],
   "source": [
    "iris_df = pd.DataFrame(data=iris['data'], columns=iris['feature_names'])\n",
    "iris_df['target'] = iris['target']\n",
    "iris_df['target_name'] = [target_dict[i] for i in iris['target']]\n",
    "\n",
    "print(iris_df)"
   ]
  },
  {
   "cell_type": "markdown",
   "id": "007cd7b5-9f3e-48f0-b389-c0d3ae05bdac",
   "metadata": {},
   "source": [
    "##### *Label Encoding*\n",
    "Используется метод LabelEncoder. Присваивает каждому категориальному значению уникальное числовое значение, сохраняя порядок категорий."
   ]
  },
  {
   "cell_type": "code",
   "execution_count": 37,
   "id": "49cbc0a3-37a2-4c72-bf72-4570642aa85b",
   "metadata": {},
   "outputs": [
    {
     "name": "stdout",
     "output_type": "stream",
     "text": [
      "[0 0 0 0 0 0 0 0 0 0 0 0 0 0 0 0 0 0 0 0 0 0 0 0 0 0 0 0 0 0 0 0 0 0 0 0 0\n",
      " 0 0 0 0 0 0 0 0 0 0 0 0 0 1 1 1 1 1 1 1 1 1 1 1 1 1 1 1 1 1 1 1 1 1 1 1 1\n",
      " 1 1 1 1 1 1 1 1 1 1 1 1 1 1 1 1 1 1 1 1 1 1 1 1 1 1 2 2 2 2 2 2 2 2 2 2 2\n",
      " 2 2 2 2 2 2 2 2 2 2 2 2 2 2 2 2 2 2 2 2 2 2 2 2 2 2 2 2 2 2 2 2 2 2 2 2 2\n",
      " 2 2]\n"
     ]
    }
   ],
   "source": [
    "le = LabelEncoder()\n",
    "label_encoder = le.fit_transform(iris_df['target_name'])\n",
    "print(label_encoder)"
   ]
  },
  {
   "cell_type": "markdown",
   "id": "f5c7e978-03f0-451e-92ef-0979eacfb7d4",
   "metadata": {},
   "source": [
    "##### *One Hot Encoding*\n",
    "Используется метод OneHotEncoder. Преобразует категориальное значение в бинарный вектор, причем его длина равна количеству категорий. Как следствие. увеличивается размерность данных, но позволяет их использовать в более сложных моделях."
   ]
  },
  {
   "cell_type": "code",
   "execution_count": 44,
   "id": "aa87d3cd-a512-4788-bc85-accd259661fa",
   "metadata": {},
   "outputs": [
    {
     "name": "stdout",
     "output_type": "stream",
     "text": [
      "[[1. 0. 0.]\n",
      " [1. 0. 0.]\n",
      " [1. 0. 0.]\n",
      " [1. 0. 0.]\n",
      " [1. 0. 0.]\n",
      " [1. 0. 0.]\n",
      " [1. 0. 0.]\n",
      " [1. 0. 0.]\n",
      " [1. 0. 0.]\n",
      " [1. 0. 0.]\n",
      " [1. 0. 0.]\n",
      " [1. 0. 0.]\n",
      " [1. 0. 0.]\n",
      " [1. 0. 0.]\n",
      " [1. 0. 0.]\n",
      " [1. 0. 0.]\n",
      " [1. 0. 0.]\n",
      " [1. 0. 0.]\n",
      " [1. 0. 0.]\n",
      " [1. 0. 0.]\n",
      " [1. 0. 0.]\n",
      " [1. 0. 0.]\n",
      " [1. 0. 0.]\n",
      " [1. 0. 0.]\n",
      " [1. 0. 0.]\n",
      " [1. 0. 0.]\n",
      " [1. 0. 0.]\n",
      " [1. 0. 0.]\n",
      " [1. 0. 0.]\n",
      " [1. 0. 0.]\n",
      " [1. 0. 0.]\n",
      " [1. 0. 0.]\n",
      " [1. 0. 0.]\n",
      " [1. 0. 0.]\n",
      " [1. 0. 0.]\n",
      " [1. 0. 0.]\n",
      " [1. 0. 0.]\n",
      " [1. 0. 0.]\n",
      " [1. 0. 0.]\n",
      " [1. 0. 0.]\n",
      " [1. 0. 0.]\n",
      " [1. 0. 0.]\n",
      " [1. 0. 0.]\n",
      " [1. 0. 0.]\n",
      " [1. 0. 0.]\n",
      " [1. 0. 0.]\n",
      " [1. 0. 0.]\n",
      " [1. 0. 0.]\n",
      " [1. 0. 0.]\n",
      " [1. 0. 0.]\n",
      " [0. 1. 0.]\n",
      " [0. 1. 0.]\n",
      " [0. 1. 0.]\n",
      " [0. 1. 0.]\n",
      " [0. 1. 0.]\n",
      " [0. 1. 0.]\n",
      " [0. 1. 0.]\n",
      " [0. 1. 0.]\n",
      " [0. 1. 0.]\n",
      " [0. 1. 0.]\n",
      " [0. 1. 0.]\n",
      " [0. 1. 0.]\n",
      " [0. 1. 0.]\n",
      " [0. 1. 0.]\n",
      " [0. 1. 0.]\n",
      " [0. 1. 0.]\n",
      " [0. 1. 0.]\n",
      " [0. 1. 0.]\n",
      " [0. 1. 0.]\n",
      " [0. 1. 0.]\n",
      " [0. 1. 0.]\n",
      " [0. 1. 0.]\n",
      " [0. 1. 0.]\n",
      " [0. 1. 0.]\n",
      " [0. 1. 0.]\n",
      " [0. 1. 0.]\n",
      " [0. 1. 0.]\n",
      " [0. 1. 0.]\n",
      " [0. 1. 0.]\n",
      " [0. 1. 0.]\n",
      " [0. 1. 0.]\n",
      " [0. 1. 0.]\n",
      " [0. 1. 0.]\n",
      " [0. 1. 0.]\n",
      " [0. 1. 0.]\n",
      " [0. 1. 0.]\n",
      " [0. 1. 0.]\n",
      " [0. 1. 0.]\n",
      " [0. 1. 0.]\n",
      " [0. 1. 0.]\n",
      " [0. 1. 0.]\n",
      " [0. 1. 0.]\n",
      " [0. 1. 0.]\n",
      " [0. 1. 0.]\n",
      " [0. 1. 0.]\n",
      " [0. 1. 0.]\n",
      " [0. 1. 0.]\n",
      " [0. 1. 0.]\n",
      " [0. 1. 0.]\n",
      " [0. 1. 0.]\n",
      " [0. 0. 1.]\n",
      " [0. 0. 1.]\n",
      " [0. 0. 1.]\n",
      " [0. 0. 1.]\n",
      " [0. 0. 1.]\n",
      " [0. 0. 1.]\n",
      " [0. 0. 1.]\n",
      " [0. 0. 1.]\n",
      " [0. 0. 1.]\n",
      " [0. 0. 1.]\n",
      " [0. 0. 1.]\n",
      " [0. 0. 1.]\n",
      " [0. 0. 1.]\n",
      " [0. 0. 1.]\n",
      " [0. 0. 1.]\n",
      " [0. 0. 1.]\n",
      " [0. 0. 1.]\n",
      " [0. 0. 1.]\n",
      " [0. 0. 1.]\n",
      " [0. 0. 1.]\n",
      " [0. 0. 1.]\n",
      " [0. 0. 1.]\n",
      " [0. 0. 1.]\n",
      " [0. 0. 1.]\n",
      " [0. 0. 1.]\n",
      " [0. 0. 1.]\n",
      " [0. 0. 1.]\n",
      " [0. 0. 1.]\n",
      " [0. 0. 1.]\n",
      " [0. 0. 1.]\n",
      " [0. 0. 1.]\n",
      " [0. 0. 1.]\n",
      " [0. 0. 1.]\n",
      " [0. 0. 1.]\n",
      " [0. 0. 1.]\n",
      " [0. 0. 1.]\n",
      " [0. 0. 1.]\n",
      " [0. 0. 1.]\n",
      " [0. 0. 1.]\n",
      " [0. 0. 1.]\n",
      " [0. 0. 1.]\n",
      " [0. 0. 1.]\n",
      " [0. 0. 1.]\n",
      " [0. 0. 1.]\n",
      " [0. 0. 1.]\n",
      " [0. 0. 1.]\n",
      " [0. 0. 1.]\n",
      " [0. 0. 1.]\n",
      " [0. 0. 1.]\n",
      " [0. 0. 1.]]\n"
     ]
    }
   ],
   "source": [
    "ohe = OneHotEncoder(sparse_output=False)\n",
    "one_hot_encoder = ohe.fit_transform(iris_df[['target_name']])\n",
    "print(one_hot_encoder)"
   ]
  },
  {
   "cell_type": "markdown",
   "id": "561f7c96-5f35-4896-996a-65e3803f5896",
   "metadata": {},
   "source": [
    "### Ящик с усами (boxplot)"
   ]
  },
  {
   "cell_type": "code",
   "execution_count": 52,
   "id": "90d84681-0a92-47f1-901d-14cba42acb37",
   "metadata": {},
   "outputs": [
    {
     "data": {
      "image/png": "[encoded data removed]",
      "text/plain": [
       "<Figure size 640x480 with 1 Axes>"
      ]
     },
     "metadata": {},
     "output_type": "display_data"
    }
   ],
   "source": [
    "plt.boxplot(iris_df[\"sepal length (cm)\"])\n",
    "plt.ylabel(\"Длина чашелистика\")\n",
    "plt.show()"
   ]
  },
  {
   "cell_type": "code",
   "execution_count": null,
   "id": "3842befb-d33a-454b-97bf-73f1ab1ad57c",
   "metadata": {},
   "outputs": [],
   "source": []
  }
 ],
 "metadata": {
  "kernelspec": {
   "display_name": "Python 3 (ipykernel)",
   "language": "python",
   "name": "python3"
  },
  "language_info": {
   "codemirror_mode": {
    "name": "ipython",
    "version": 3
   },
   "file_extension": ".py",
   "mimetype": "text/x-python",
   "name": "python",
   "nbconvert_exporter": "python",
   "pygments_lexer": "ipython3",
   "version": "3.11.7"
  }
 },
 "nbformat": 4,
 "nbformat_minor": 5
}
